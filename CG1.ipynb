{
 "cells": [
  {
   "cell_type": "code",
   "execution_count": 1,
   "id": "5a98b3bb",
   "metadata": {},
   "outputs": [],
   "source": [
    "import gurobipy as gu"
   ]
  },
  {
   "cell_type": "code",
   "execution_count": 2,
   "id": "678d248f",
   "metadata": {},
   "outputs": [
    {
     "name": "stderr",
     "output_type": "stream",
     "text": [
      "C:\\Users\\serha\\anaconda3\\lib\\site-packages\\numpy\\_distributor_init.py:30: UserWarning: loaded more than 1 DLL from .libs:\n",
      "C:\\Users\\serha\\anaconda3\\lib\\site-packages\\numpy\\.libs\\libopenblas.EL2C6PLE4ZYW3ECEVIV3OXXGRN2NRFM2.gfortran-win_amd64.dll\n",
      "C:\\Users\\serha\\anaconda3\\lib\\site-packages\\numpy\\.libs\\libopenblas.fb5ae2tyxyh2ijrdkgdgq3xbklktf43h.gfortran-win_amd64.dll\n",
      "  warnings.warn(\"loaded more than 1 DLL from .libs:\"\n",
      "C:\\Users\\serha\\anaconda3\\lib\\site-packages\\pandas\\core\\computation\\expressions.py:21: UserWarning: Pandas requires version '2.8.4' or newer of 'numexpr' (version '2.8.1' currently installed).\n",
      "  from pandas.core.computation.check import NUMEXPR_INSTALLED\n",
      "C:\\Users\\serha\\anaconda3\\lib\\site-packages\\pandas\\core\\arrays\\masked.py:60: UserWarning: Pandas requires version '1.3.6' or newer of 'bottleneck' (version '1.3.4' currently installed).\n",
      "  from pandas.core import (\n",
      "C:\\Users\\serha\\AppData\\Local\\Temp\\ipykernel_34384\\4080736814.py:1: DeprecationWarning: \n",
      "Pyarrow will become a required dependency of pandas in the next major release of pandas (pandas 3.0),\n",
      "(to allow more performant data types, such as the Arrow string type, and better interoperability with other libraries)\n",
      "but was not found to be installed on your system.\n",
      "If this would cause problems for you,\n",
      "please provide us feedback at https://github.com/pandas-dev/pandas/issues/54466\n",
      "        \n",
      "  import pandas as pd\n"
     ]
    }
   ],
   "source": [
    "import pandas as pd"
   ]
  },
  {
   "cell_type": "code",
   "execution_count": 3,
   "id": "a1c14cb0",
   "metadata": {},
   "outputs": [],
   "source": [
    "import numpy as np"
   ]
  },
  {
   "cell_type": "code",
   "execution_count": 4,
   "id": "77620105",
   "metadata": {},
   "outputs": [],
   "source": [
    "import time"
   ]
  },
  {
   "cell_type": "markdown",
   "id": "31a0b1e9",
   "metadata": {},
   "source": [
    "# Initialize variables"
   ]
  },
  {
   "cell_type": "code",
   "execution_count": 5,
   "id": "77793a7c",
   "metadata": {},
   "outputs": [],
   "source": [
    "filename = \"example_data.csv\"  # Example file name\n",
    "rollWidth = 100\n",
    "iteration = 0  # Track the number of iterations\n",
    "start_time = time.time()  # Record start time"
   ]
  },
  {
   "cell_type": "code",
   "execution_count": 6,
   "id": "2e099fca",
   "metadata": {},
   "outputs": [],
   "source": [
    "results = pd.DataFrame(columns=[\n",
    "    'File', 'RollWidth', 'Status', 'CG_Iterations', 'GAP', 'OptimalSolution', 'Time'\n",
    "])"
   ]
  },
  {
   "cell_type": "markdown",
   "id": "682d1083",
   "metadata": {},
   "source": [
    "# Define the InitialPatternsGenerator class\n"
   ]
  },
  {
   "cell_type": "code",
   "execution_count": 7,
   "id": "0d481ee5",
   "metadata": {},
   "outputs": [],
   "source": [
    "class InitialPatternsGenerator:\n",
    "    def __init__(self, inputDf, rollWidth):\n",
    "        self.inputDf = inputDf  # DataFrame containing item sizes and amounts\n",
    "        self.rollWidth = rollWidth\n",
    "        self.nbItems = len(inputDf)  # Number of items\n",
    "        self.patternDf = None  # Placeholder for patterns DataFrame\n",
    "\n",
    "    def generateBasicInitialPatterns(self):\n",
    "        # Initialize the DataFrame to store patterns\n",
    "        columns = ['PatternCost', 'PatternFill']\n",
    "        patterns = pd.DataFrame(index=range(self.nbItems), columns=columns)\n",
    "\n",
    "        # Generate initial patterns based on rollWidth / size\n",
    "        patterns['PatternCost'] = 1  # Default cost for each pattern\n",
    "        patterns['PatternFill'] = [\n",
    "            [self.rollWidth // size if i == idx else 0 for i, size in enumerate(self.inputDf['Size'])]\n",
    "            for idx in range(self.nbItems)\n",
    "        ]\n",
    "\n",
    "        self.patternDf = patterns\n",
    "        return self.patternDf\n"
   ]
  },
  {
   "cell_type": "markdown",
   "id": "5ff800a6",
   "metadata": {},
   "source": [
    "# Define the MasterProblem class\n"
   ]
  },
  {
   "cell_type": "code",
   "execution_count": 8,
   "id": "7e418791",
   "metadata": {},
   "outputs": [],
   "source": [
    "class MasterProblem:\n",
    "    def __init__(self, patternDf, inputDf):\n",
    "        self.patternCost = patternDf['PatternCost'].values\n",
    "        self.patternFill = patternDf['PatternFill'].tolist()  # Convert to list\n",
    "        self.amount = inputDf['Amount'].values\n",
    "        self.model = gu.Model(\"MasterProblem\")\n",
    "        self.patternsIndex = patternDf.index.values\n",
    "\n",
    "    def buildModel(self):\n",
    "        self.patternUseVar = self.model.addVars(\n",
    "            self.patternsIndex, lb=0, vtype=gu.GRB.INTEGER, name=\"PatternUseVar\"\n",
    "        )\n",
    "        self.model.addConstrs(\n",
    "            (gu.quicksum(\n",
    "                self.patternFill[p][j] * self.patternUseVar[p]\n",
    "                for p in self.patternsIndex\n",
    "            ) >= self.amount[j] for j in range(len(self.amount))),\n",
    "            \"DemandConstraints\"\n",
    "        )\n",
    "        self.model.setObjective(\n",
    "            gu.quicksum(self.patternCost[p] * self.patternUseVar[p] for p in self.patternsIndex),\n",
    "            sense=gu.GRB.MINIMIZE\n",
    "        )\n",
    "        self.model.update()\n",
    "\n",
    "    def solveRelaxedModel(self):\n",
    "        self.relaxedModel = self.model.relax()\n",
    "        self.relaxedModel.optimize()\n",
    "        if self.relaxedModel.Status != gu.GRB.OPTIMAL:\n",
    "            raise Exception(\"Relaxed Master Problem not solved to optimality.\")\n",
    "\n",
    "    def getDuals(self):\n",
    "        if self.relaxedModel.Status == gu.GRB.OPTIMAL:\n",
    "            return self.relaxedModel.getAttr(\"Pi\", self.relaxedModel.getConstrs())\n",
    "        else:\n",
    "            raise Exception(\"Duals not available because relaxed model is not optimal.\")\n",
    "\n",
    "    def addColumn(self, objective, newPattern):\n",
    "        # Generate a unique name for the new variable\n",
    "        varName = f\"PatternUseVar[{len(self.model.getVars())}]\"\n",
    "        # Create a new column using the new pattern and associated constraints\n",
    "        newColumn = gu.Column(newPattern, self.model.getConstrs())\n",
    "        # Add a new variable to the model\n",
    "        self.model.addVar(\n",
    "            vtype=gu.GRB.INTEGER, \n",
    "            lb=0, \n",
    "            obj=objective, \n",
    "            column=newColumn, \n",
    "            name=varName\n",
    "        )\n",
    "        self.model.update()\n",
    "        \n",
    "        # Append the new pattern to the patternFill list\n",
    "        self.patternFill.append(newPattern)\n",
    "\n",
    "    def solveModel(self, timeLimit=None, GAP=None):\n",
    "        if timeLimit:\n",
    "            self.model.setParam('TimeLimit', timeLimit)\n",
    "        if GAP:\n",
    "            self.model.setParam('MIPGap', GAP)\n",
    "        self.model.optimize()\n",
    "\n",
    "    def getObjectiveValue(self, rounded=True):\n",
    "        return np.rint(self.model.objVal) if rounded else self.model.objVal\n",
    "\n",
    "    def getStatus(self):\n",
    "        return self.model.Status\n",
    "\n",
    "    def getGAP(self):\n",
    "        return self.model.MIPGap"
   ]
  },
  {
   "cell_type": "markdown",
   "id": "a0cf6dae",
   "metadata": {},
   "source": [
    "# Define the Subproblem class"
   ]
  },
  {
   "cell_type": "code",
   "execution_count": 9,
   "id": "0dcb3a77",
   "metadata": {},
   "outputs": [],
   "source": [
    "class Subproblem:\n",
    "    def __init__(self, inputDf, rollWidth, duals):\n",
    "        self.pieceSize = inputDf['Size'].values\n",
    "        self.rollWidth = rollWidth\n",
    "        self.duals = duals\n",
    "        self.model = gu.Model(\"Subproblem\")\n",
    "        self.piecesIndex = inputDf.index.values  # Ensure indices match inputDf\n",
    "\n",
    "    def buildModel(self):\n",
    "        # Define variables\n",
    "        self.piecesInPatternVar = self.model.addVars(\n",
    "            self.piecesIndex, lb=0, vtype=gu.GRB.INTEGER, name=\"PiecesInPatternVar\"\n",
    "        )\n",
    "        \n",
    "        # Add roll width constraint\n",
    "        self.model.addConstr(\n",
    "            gu.quicksum(self.pieceSize[j] * self.piecesInPatternVar[j] for j in self.piecesIndex) <= self.rollWidth,\n",
    "            \"RollWidthConstraint\"\n",
    "        )\n",
    "        \n",
    "        # Set objective using duals\n",
    "        # Ensure duals[j] is properly indexed to match self.piecesIndex\n",
    "        self.model.setObjective(\n",
    "            gu.quicksum(self.piecesInPatternVar[j] * self.duals[j] for j in self.piecesIndex),\n",
    "            sense=gu.GRB.MAXIMIZE\n",
    "        )\n",
    "\n",
    "    def solveModel(self, timeLimit=None, GAP=None):\n",
    "        if timeLimit:\n",
    "            self.model.setParam('TimeLimit', timeLimit)\n",
    "        if GAP:\n",
    "            self.model.setParam('MIPGap', GAP)\n",
    "        self.model.optimize()\n",
    "\n",
    "    def getObjectiveValue(self):\n",
    "        return self.model.objVal\n",
    "\n",
    "    def getNewPattern(self):\n",
    "        return self.model.getAttr(\"X\", self.model.getVars())"
   ]
  },
  {
   "cell_type": "markdown",
   "id": "d298d480",
   "metadata": {},
   "source": [
    "# Define the input data\n"
   ]
  },
  {
   "cell_type": "code",
   "execution_count": 10,
   "id": "e7c98c0a",
   "metadata": {},
   "outputs": [],
   "source": [
    "inputDf = pd.DataFrame({\n",
    "    'Size': [70, 50, 25, 15, 8],\n",
    "    'Amount': [6, 11, 17, 35, 21]\n",
    "})\n",
    "rollWidth = 100"
   ]
  },
  {
   "cell_type": "code",
   "execution_count": 11,
   "id": "76adaecf",
   "metadata": {},
   "outputs": [
    {
     "data": {
      "text/html": [
       "<div>\n",
       "<style scoped>\n",
       "    .dataframe tbody tr th:only-of-type {\n",
       "        vertical-align: middle;\n",
       "    }\n",
       "\n",
       "    .dataframe tbody tr th {\n",
       "        vertical-align: top;\n",
       "    }\n",
       "\n",
       "    .dataframe thead th {\n",
       "        text-align: right;\n",
       "    }\n",
       "</style>\n",
       "<table border=\"1\" class=\"dataframe\">\n",
       "  <thead>\n",
       "    <tr style=\"text-align: right;\">\n",
       "      <th></th>\n",
       "      <th>Size</th>\n",
       "      <th>Amount</th>\n",
       "    </tr>\n",
       "  </thead>\n",
       "  <tbody>\n",
       "    <tr>\n",
       "      <th>0</th>\n",
       "      <td>70</td>\n",
       "      <td>6</td>\n",
       "    </tr>\n",
       "    <tr>\n",
       "      <th>1</th>\n",
       "      <td>50</td>\n",
       "      <td>11</td>\n",
       "    </tr>\n",
       "    <tr>\n",
       "      <th>2</th>\n",
       "      <td>25</td>\n",
       "      <td>17</td>\n",
       "    </tr>\n",
       "    <tr>\n",
       "      <th>3</th>\n",
       "      <td>15</td>\n",
       "      <td>35</td>\n",
       "    </tr>\n",
       "    <tr>\n",
       "      <th>4</th>\n",
       "      <td>8</td>\n",
       "      <td>21</td>\n",
       "    </tr>\n",
       "  </tbody>\n",
       "</table>\n",
       "</div>"
      ],
      "text/plain": [
       "   Size  Amount\n",
       "0    70       6\n",
       "1    50      11\n",
       "2    25      17\n",
       "3    15      35\n",
       "4     8      21"
      ]
     },
     "execution_count": 11,
     "metadata": {},
     "output_type": "execute_result"
    }
   ],
   "source": [
    "inputDf"
   ]
  },
  {
   "cell_type": "markdown",
   "id": "6ae171b0",
   "metadata": {},
   "source": [
    "# Main process\n",
    "# Step 1: Generate initial patterns"
   ]
  },
  {
   "cell_type": "code",
   "execution_count": 12,
   "id": "99395ac7",
   "metadata": {},
   "outputs": [],
   "source": [
    "patternGenerator = InitialPatternsGenerator(inputDf, rollWidth)"
   ]
  },
  {
   "cell_type": "code",
   "execution_count": 13,
   "id": "35c105eb",
   "metadata": {},
   "outputs": [],
   "source": [
    "patternDf = patternGenerator.generateBasicInitialPatterns()"
   ]
  },
  {
   "cell_type": "code",
   "execution_count": 14,
   "id": "0d27dc73",
   "metadata": {},
   "outputs": [
    {
     "data": {
      "text/html": [
       "<div>\n",
       "<style scoped>\n",
       "    .dataframe tbody tr th:only-of-type {\n",
       "        vertical-align: middle;\n",
       "    }\n",
       "\n",
       "    .dataframe tbody tr th {\n",
       "        vertical-align: top;\n",
       "    }\n",
       "\n",
       "    .dataframe thead th {\n",
       "        text-align: right;\n",
       "    }\n",
       "</style>\n",
       "<table border=\"1\" class=\"dataframe\">\n",
       "  <thead>\n",
       "    <tr style=\"text-align: right;\">\n",
       "      <th></th>\n",
       "      <th>PatternCost</th>\n",
       "      <th>PatternFill</th>\n",
       "    </tr>\n",
       "  </thead>\n",
       "  <tbody>\n",
       "    <tr>\n",
       "      <th>0</th>\n",
       "      <td>1</td>\n",
       "      <td>[1, 0, 0, 0, 0]</td>\n",
       "    </tr>\n",
       "    <tr>\n",
       "      <th>1</th>\n",
       "      <td>1</td>\n",
       "      <td>[0, 2, 0, 0, 0]</td>\n",
       "    </tr>\n",
       "    <tr>\n",
       "      <th>2</th>\n",
       "      <td>1</td>\n",
       "      <td>[0, 0, 4, 0, 0]</td>\n",
       "    </tr>\n",
       "    <tr>\n",
       "      <th>3</th>\n",
       "      <td>1</td>\n",
       "      <td>[0, 0, 0, 6, 0]</td>\n",
       "    </tr>\n",
       "    <tr>\n",
       "      <th>4</th>\n",
       "      <td>1</td>\n",
       "      <td>[0, 0, 0, 0, 12]</td>\n",
       "    </tr>\n",
       "  </tbody>\n",
       "</table>\n",
       "</div>"
      ],
      "text/plain": [
       "   PatternCost       PatternFill\n",
       "0            1   [1, 0, 0, 0, 0]\n",
       "1            1   [0, 2, 0, 0, 0]\n",
       "2            1   [0, 0, 4, 0, 0]\n",
       "3            1   [0, 0, 0, 6, 0]\n",
       "4            1  [0, 0, 0, 0, 12]"
      ]
     },
     "execution_count": 14,
     "metadata": {},
     "output_type": "execute_result"
    }
   ],
   "source": [
    "patternDf"
   ]
  },
  {
   "cell_type": "markdown",
   "id": "a7052846",
   "metadata": {},
   "source": [
    "# Step 2: Build Master Problem\n"
   ]
  },
  {
   "cell_type": "code",
   "execution_count": 15,
   "id": "c968546c",
   "metadata": {},
   "outputs": [
    {
     "name": "stdout",
     "output_type": "stream",
     "text": [
      "Set parameter Username\n",
      "Academic license - for non-commercial use only - expires 2025-07-05\n"
     ]
    }
   ],
   "source": [
    "master = MasterProblem(patternDf, inputDf)"
   ]
  },
  {
   "cell_type": "code",
   "execution_count": 16,
   "id": "e18fab16",
   "metadata": {},
   "outputs": [],
   "source": [
    "master.buildModel()"
   ]
  },
  {
   "cell_type": "markdown",
   "id": "d941fb01",
   "metadata": {},
   "source": [
    "# Step 3: Iterative improvement loop\n"
   ]
  },
  {
   "cell_type": "code",
   "execution_count": 17,
   "id": "b7c3eb52",
   "metadata": {},
   "outputs": [],
   "source": [
    "modelImprovable = True"
   ]
  },
  {
   "cell_type": "code",
   "execution_count": 18,
   "id": "e77c7404",
   "metadata": {},
   "outputs": [
    {
     "name": "stdout",
     "output_type": "stream",
     "text": [
      "This is iteration number:  0 \n",
      "\n",
      "Gurobi Optimizer version 9.5.1 build v9.5.1rc2 (win64)\n",
      "Thread count: 8 physical cores, 16 logical processors, using up to 16 threads\n",
      "Optimize a model with 5 rows, 5 columns and 5 nonzeros\n",
      "Model fingerprint: 0x7fdca912\n",
      "Coefficient statistics:\n",
      "  Matrix range     [1e+00, 1e+01]\n",
      "  Objective range  [1e+00, 1e+00]\n",
      "  Bounds range     [0e+00, 0e+00]\n",
      "  RHS range        [6e+00, 4e+01]\n",
      "Presolve removed 5 rows and 5 columns\n",
      "Presolve time: 0.00s\n",
      "Presolve: All rows and columns removed\n",
      "Iteration    Objective       Primal Inf.    Dual Inf.      Time\n",
      "       0    2.3333333e+01   0.000000e+00   0.000000e+00      0s\n",
      "\n",
      "Solved in 0 iterations and 0.00 seconds (0.00 work units)\n",
      "Optimal objective  2.333333333e+01\n",
      "Gurobi Optimizer version 9.5.1 build v9.5.1rc2 (win64)\n",
      "Thread count: 8 physical cores, 16 logical processors, using up to 16 threads\n",
      "Optimize a model with 1 rows, 5 columns and 5 nonzeros\n",
      "Model fingerprint: 0xbc8179fb\n",
      "Variable types: 0 continuous, 5 integer (0 binary)\n",
      "Coefficient statistics:\n",
      "  Matrix range     [8e+00, 7e+01]\n",
      "  Objective range  [8e-02, 1e+00]\n",
      "  Bounds range     [0e+00, 0e+00]\n",
      "  RHS range        [1e+02, 1e+02]\n",
      "Found heuristic solution: objective 1.2500000\n",
      "Presolve removed 1 rows and 5 columns\n",
      "Presolve time: 0.00s\n",
      "Presolve: All rows and columns removed\n",
      "\n",
      "Explored 0 nodes (0 simplex iterations) in 0.01 seconds (0.00 work units)\n",
      "Thread count was 1 (of 16 available processors)\n",
      "\n",
      "Solution count 2: 1.33333 1.25 \n",
      "\n",
      "Optimal solution found (tolerance 1.00e-04)\n",
      "Best objective 1.333333333333e+00, best bound 1.333333333333e+00, gap 0.0000%\n",
      "\n",
      "The new pattern cut is:  [1.0, -0.0, 0.0, 2.0, 0.0] \n",
      "\n",
      "This is iteration number:  1 \n",
      "\n",
      "Gurobi Optimizer version 9.5.1 build v9.5.1rc2 (win64)\n",
      "Thread count: 8 physical cores, 16 logical processors, using up to 16 threads\n",
      "Optimize a model with 5 rows, 6 columns and 7 nonzeros\n",
      "Model fingerprint: 0xcce33bab\n",
      "Coefficient statistics:\n",
      "  Matrix range     [1e+00, 1e+01]\n",
      "  Objective range  [1e+00, 1e+00]\n",
      "  Bounds range     [0e+00, 0e+00]\n",
      "  RHS range        [6e+00, 4e+01]\n",
      "Presolve removed 3 rows and 3 columns\n",
      "Presolve time: 0.00s\n",
      "Presolved: 2 rows, 3 columns, 4 nonzeros\n",
      "\n",
      "Iteration    Objective       Primal Inf.    Dual Inf.      Time\n",
      "       0    1.1500000e+01   1.037500e+01   0.000000e+00      0s\n",
      "       3    2.1333333e+01   0.000000e+00   0.000000e+00      0s\n",
      "\n",
      "Solved in 3 iterations and 0.00 seconds (0.00 work units)\n",
      "Optimal objective  2.133333333e+01\n",
      "Gurobi Optimizer version 9.5.1 build v9.5.1rc2 (win64)\n",
      "Thread count: 8 physical cores, 16 logical processors, using up to 16 threads\n",
      "Optimize a model with 1 rows, 5 columns and 5 nonzeros\n",
      "Model fingerprint: 0x7b67f5e7\n",
      "Variable types: 0 continuous, 5 integer (0 binary)\n",
      "Coefficient statistics:\n",
      "  Matrix range     [8e+00, 7e+01]\n",
      "  Objective range  [8e-02, 7e-01]\n",
      "  Bounds range     [0e+00, 0e+00]\n",
      "  RHS range        [1e+02, 1e+02]\n",
      "Found heuristic solution: objective 0.9166667\n",
      "Presolve removed 1 rows and 5 columns\n",
      "Presolve time: 0.00s\n",
      "Presolve: All rows and columns removed\n",
      "\n",
      "Explored 0 nodes (0 simplex iterations) in 0.01 seconds (0.00 work units)\n",
      "Thread count was 1 (of 16 available processors)\n",
      "\n",
      "Solution count 2: 1.08333 0.916667 \n",
      "\n",
      "Optimal solution found (tolerance 1.00e-04)\n",
      "Best objective 1.083333333333e+00, best bound 1.083333333333e+00, gap 0.0000%\n",
      "\n",
      "The new pattern cut is:  [0.0, -0.0, 0.0, 6.0, 1.0] \n",
      "\n",
      "This is iteration number:  2 \n",
      "\n",
      "Gurobi Optimizer version 9.5.1 build v9.5.1rc2 (win64)\n",
      "Thread count: 8 physical cores, 16 logical processors, using up to 16 threads\n",
      "Optimize a model with 5 rows, 7 columns and 9 nonzeros\n",
      "Model fingerprint: 0xc5f252b4\n",
      "Coefficient statistics:\n",
      "  Matrix range     [1e+00, 1e+01]\n",
      "  Objective range  [1e+00, 1e+00]\n",
      "  Bounds range     [0e+00, 0e+00]\n",
      "  RHS range        [6e+00, 4e+01]\n",
      "Presolve removed 2 rows and 2 columns\n",
      "Presolve time: 0.00s\n",
      "Presolved: 3 rows, 5 columns, 7 nonzeros\n",
      "\n",
      "Iteration    Objective       Primal Inf.    Dual Inf.      Time\n",
      "       0    9.7500000e+00   1.300000e+01   0.000000e+00      0s\n",
      "       5    2.1013889e+01   0.000000e+00   0.000000e+00      0s\n",
      "\n",
      "Solved in 5 iterations and 0.00 seconds (0.00 work units)\n",
      "Optimal objective  2.101388889e+01\n",
      "Gurobi Optimizer version 9.5.1 build v9.5.1rc2 (win64)\n",
      "Thread count: 8 physical cores, 16 logical processors, using up to 16 threads\n",
      "Optimize a model with 1 rows, 5 columns and 5 nonzeros\n",
      "Model fingerprint: 0x3c2036b7\n",
      "Variable types: 0 continuous, 5 integer (0 binary)\n",
      "Coefficient statistics:\n",
      "  Matrix range     [8e+00, 7e+01]\n",
      "  Objective range  [8e-02, 7e-01]\n",
      "  Bounds range     [0e+00, 0e+00]\n",
      "  RHS range        [1e+02, 1e+02]\n",
      "Found heuristic solution: objective 0.9444444\n",
      "Presolve removed 1 rows and 5 columns\n",
      "Presolve time: 0.00s\n",
      "Presolve: All rows and columns removed\n",
      "\n",
      "Explored 0 nodes (0 simplex iterations) in 0.00 seconds (0.00 work units)\n",
      "Thread count was 1 (of 16 available processors)\n",
      "\n",
      "Solution count 2: 1.02778 0.944444 \n",
      "\n",
      "Optimal solution found (tolerance 1.00e-04)\n",
      "Best objective 1.027777777778e+00, best bound 1.027777777778e+00, gap 0.0000%\n",
      "\n",
      "The new pattern cut is:  [0.0, -0.0, 0.0, 4.0, 5.0] \n",
      "\n",
      "This is iteration number:  3 \n",
      "\n",
      "Gurobi Optimizer version 9.5.1 build v9.5.1rc2 (win64)\n",
      "Thread count: 8 physical cores, 16 logical processors, using up to 16 threads\n",
      "Optimize a model with 5 rows, 8 columns and 11 nonzeros\n",
      "Model fingerprint: 0x1127416f\n",
      "Coefficient statistics:\n",
      "  Matrix range     [1e+00, 1e+01]\n",
      "  Objective range  [1e+00, 1e+00]\n",
      "  Bounds range     [0e+00, 0e+00]\n",
      "  RHS range        [6e+00, 4e+01]\n",
      "Presolve removed 2 rows and 2 columns\n",
      "Presolve time: 0.00s\n",
      "Presolved: 3 rows, 6 columns, 9 nonzeros\n",
      "\n",
      "Iteration    Objective       Primal Inf.    Dual Inf.      Time\n",
      "       0    9.7500000e+00   1.300000e+01   0.000000e+00      0s\n",
      "       5    2.0903846e+01   0.000000e+00   0.000000e+00      0s\n",
      "\n",
      "Solved in 5 iterations and 0.00 seconds (0.00 work units)\n",
      "Optimal objective  2.090384615e+01\n",
      "Gurobi Optimizer version 9.5.1 build v9.5.1rc2 (win64)\n",
      "Thread count: 8 physical cores, 16 logical processors, using up to 16 threads\n",
      "Optimize a model with 1 rows, 5 columns and 5 nonzeros\n",
      "Model fingerprint: 0x78f6267a\n",
      "Variable types: 0 continuous, 5 integer (0 binary)\n",
      "Coefficient statistics:\n",
      "  Matrix range     [8e+00, 7e+01]\n",
      "  Objective range  [8e-02, 7e-01]\n",
      "  Bounds range     [0e+00, 0e+00]\n",
      "  RHS range        [1e+02, 1e+02]\n",
      "Found heuristic solution: objective 0.9423077\n",
      "Presolve removed 1 rows and 5 columns\n",
      "Presolve time: 0.00s\n",
      "Presolve: All rows and columns removed\n",
      "\n",
      "Explored 0 nodes (0 simplex iterations) in 0.00 seconds (0.00 work units)\n",
      "Thread count was 1 (of 16 available processors)\n",
      "\n",
      "Solution count 2: 1.01923 0.942308 \n",
      "\n",
      "Optimal solution found (tolerance 1.00e-04)\n",
      "Best objective 1.019230769231e+00, best bound 1.019230769231e+00, gap 0.0000%\n",
      "\n",
      "The new pattern cut is:  [0.0, -0.0, 1.0, 5.0, 0.0] \n",
      "\n",
      "This is iteration number:  4 \n",
      "\n",
      "Gurobi Optimizer version 9.5.1 build v9.5.1rc2 (win64)\n",
      "Thread count: 8 physical cores, 16 logical processors, using up to 16 threads\n",
      "Optimize a model with 5 rows, 9 columns and 13 nonzeros\n",
      "Model fingerprint: 0x627ca6a6\n",
      "Coefficient statistics:\n",
      "  Matrix range     [1e+00, 1e+01]\n",
      "  Objective range  [1e+00, 1e+00]\n",
      "  Bounds range     [0e+00, 0e+00]\n",
      "  RHS range        [6e+00, 4e+01]\n",
      "Presolve removed 1 rows and 1 columns\n",
      "Presolve time: 0.00s\n",
      "Presolved: 4 rows, 8 columns, 12 nonzeros\n",
      "\n",
      "Iteration    Objective       Primal Inf.    Dual Inf.      Time\n",
      "       0    5.5000000e+00   1.725000e+01   0.000000e+00      0s\n",
      "       5    2.0880000e+01   0.000000e+00   0.000000e+00      0s\n",
      "\n",
      "Solved in 5 iterations and 0.01 seconds (0.00 work units)\n",
      "Optimal objective  2.088000000e+01\n",
      "Gurobi Optimizer version 9.5.1 build v9.5.1rc2 (win64)\n",
      "Thread count: 8 physical cores, 16 logical processors, using up to 16 threads\n",
      "Optimize a model with 1 rows, 5 columns and 5 nonzeros\n",
      "Model fingerprint: 0xc90b9924\n",
      "Variable types: 0 continuous, 5 integer (0 binary)\n",
      "Coefficient statistics:\n",
      "  Matrix range     [8e+00, 7e+01]\n",
      "  Objective range  [8e-02, 7e-01]\n",
      "  Bounds range     [0e+00, 0e+00]\n",
      "  RHS range        [1e+02, 1e+02]\n",
      "Found heuristic solution: objective 0.9500000\n",
      "Presolve removed 1 rows and 5 columns\n",
      "Presolve time: 0.00s\n",
      "Presolve: All rows and columns removed\n",
      "\n",
      "Explored 0 nodes (0 simplex iterations) in 0.00 seconds (0.00 work units)\n"
     ]
    },
    {
     "name": "stdout",
     "output_type": "stream",
     "text": [
      "Thread count was 1 (of 16 available processors)\n",
      "\n",
      "Solution count 2: 1 0.95 \n",
      "\n",
      "Optimal solution found (tolerance 1.00e-04)\n",
      "Best objective 1.000000000000e+00, best bound 1.000000000000e+00, gap 0.0000%\n"
     ]
    }
   ],
   "source": [
    "while modelImprovable:\n",
    "    print(\"This is iteration number: \", iteration, \"\\n\")\n",
    "    iteration += 1  # Increment iteration count\n",
    "    \n",
    "    # Solve relaxed Master Problem\n",
    "    master.solveRelaxedModel()\n",
    "    duals = master.getDuals()\n",
    "\n",
    "    # Solve Subproblem\n",
    "    subproblem = Subproblem(inputDf, rollWidth, duals)\n",
    "    subproblem.buildModel()\n",
    "    subproblem.solveModel()\n",
    "\n",
    "    # Check if improvement exists\n",
    "    modelImprovable = subproblem.getObjectiveValue() > 1\n",
    "    if modelImprovable:\n",
    "        newPatternCost = 1\n",
    "        newPatternCuts = subproblem.getNewPattern()\n",
    "        print(\"\\nThe new pattern cut is: \", newPatternCuts, \"\\n\")\n",
    "        master.addColumn(newPatternCost, newPatternCuts)"
   ]
  },
  {
   "cell_type": "code",
   "execution_count": 19,
   "id": "9dc09d5e",
   "metadata": {},
   "outputs": [
    {
     "name": "stdout",
     "output_type": "stream",
     "text": [
      "Gurobi Optimizer version 9.5.1 build v9.5.1rc2 (win64)\n",
      "Thread count: 8 physical cores, 16 logical processors, using up to 16 threads\n",
      "Optimize a model with 5 rows, 9 columns and 13 nonzeros\n",
      "Model fingerprint: 0xfe7eaa53\n",
      "Variable types: 0 continuous, 9 integer (0 binary)\n",
      "Coefficient statistics:\n",
      "  Matrix range     [1e+00, 1e+01]\n",
      "  Objective range  [1e+00, 1e+00]\n",
      "  Bounds range     [0e+00, 0e+00]\n",
      "  RHS range        [6e+00, 4e+01]\n",
      "Found heuristic solution: objective 34.0000000\n",
      "Presolve removed 2 rows and 4 columns\n",
      "Presolve time: 0.00s\n",
      "Presolved: 3 rows, 5 columns, 8 nonzeros\n",
      "Variable types: 0 continuous, 5 integer (0 binary)\n",
      "\n",
      "Root relaxation: objective 2.138000e+01, 4 iterations, 0.00 seconds (0.00 work units)\n",
      "\n",
      "    Nodes    |    Current Node    |     Objective Bounds      |     Work\n",
      " Expl Unexpl |  Obj  Depth IntInf | Incumbent    BestBd   Gap | It/Node Time\n",
      "\n",
      "     0     0   21.38000    0    3   34.00000   21.38000  37.1%     -    0s\n",
      "H    0     0                      22.0000000   21.38000  2.82%     -    0s\n",
      "     0     0   21.38000    0    3   22.00000   21.38000  2.82%     -    0s\n",
      "\n",
      "Explored 1 nodes (4 simplex iterations) in 0.01 seconds (0.00 work units)\n",
      "Thread count was 16 (of 16 available processors)\n",
      "\n",
      "Solution count 2: 22 34 \n",
      "\n",
      "Optimal solution found (tolerance 1.00e-04)\n",
      "Best objective 2.200000000000e+01, best bound 2.200000000000e+01, gap 0.0000%\n"
     ]
    }
   ],
   "source": [
    "master.solveModel()"
   ]
  },
  {
   "cell_type": "markdown",
   "id": "0939e368",
   "metadata": {},
   "source": [
    "# Calculate elapsed time"
   ]
  },
  {
   "cell_type": "code",
   "execution_count": 20,
   "id": "81d73220",
   "metadata": {},
   "outputs": [],
   "source": [
    "time_elapsed = time.time() - start_time"
   ]
  },
  {
   "cell_type": "markdown",
   "id": "3758dcaf",
   "metadata": {},
   "source": [
    "# Append results"
   ]
  },
  {
   "cell_type": "code",
   "execution_count": 21,
   "id": "30544024",
   "metadata": {},
   "outputs": [],
   "source": [
    "new_row = pd.DataFrame([{\n",
    "    'File': filename,\n",
    "    'RollWidth': rollWidth,\n",
    "    'Status': master.getStatus(),\n",
    "    'CG_Iterations': iteration,\n",
    "    'GAP': master.getGAP(),\n",
    "    'OptimalSolution': np.rint(master.getObjectiveValue(False)),\n",
    "    'Time': time_elapsed\n",
    "}])"
   ]
  },
  {
   "cell_type": "code",
   "execution_count": 22,
   "id": "9a4f25af",
   "metadata": {},
   "outputs": [
    {
     "name": "stderr",
     "output_type": "stream",
     "text": [
      "C:\\Users\\serha\\AppData\\Local\\Temp\\ipykernel_34384\\1487284922.py:1: FutureWarning: The behavior of DataFrame concatenation with empty or all-NA entries is deprecated. In a future version, this will no longer exclude empty or all-NA columns when determining the result dtypes. To retain the old behavior, exclude the relevant entries before the concat operation.\n",
      "  results = pd.concat([results, new_row], ignore_index=True)\n"
     ]
    }
   ],
   "source": [
    "results = pd.concat([results, new_row], ignore_index=True)"
   ]
  },
  {
   "cell_type": "code",
   "execution_count": 23,
   "id": "81feb28d",
   "metadata": {},
   "outputs": [
    {
     "data": {
      "text/html": [
       "<div>\n",
       "<style scoped>\n",
       "    .dataframe tbody tr th:only-of-type {\n",
       "        vertical-align: middle;\n",
       "    }\n",
       "\n",
       "    .dataframe tbody tr th {\n",
       "        vertical-align: top;\n",
       "    }\n",
       "\n",
       "    .dataframe thead th {\n",
       "        text-align: right;\n",
       "    }\n",
       "</style>\n",
       "<table border=\"1\" class=\"dataframe\">\n",
       "  <thead>\n",
       "    <tr style=\"text-align: right;\">\n",
       "      <th></th>\n",
       "      <th>File</th>\n",
       "      <th>RollWidth</th>\n",
       "      <th>Status</th>\n",
       "      <th>CG_Iterations</th>\n",
       "      <th>GAP</th>\n",
       "      <th>OptimalSolution</th>\n",
       "      <th>Time</th>\n",
       "    </tr>\n",
       "  </thead>\n",
       "  <tbody>\n",
       "    <tr>\n",
       "      <th>0</th>\n",
       "      <td>example_data.csv</td>\n",
       "      <td>100</td>\n",
       "      <td>2</td>\n",
       "      <td>5</td>\n",
       "      <td>0.0</td>\n",
       "      <td>22.0</td>\n",
       "      <td>0.317754</td>\n",
       "    </tr>\n",
       "  </tbody>\n",
       "</table>\n",
       "</div>"
      ],
      "text/plain": [
       "               File RollWidth Status CG_Iterations  GAP  OptimalSolution  \\\n",
       "0  example_data.csv       100      2             5  0.0             22.0   \n",
       "\n",
       "       Time  \n",
       "0  0.317754  "
      ]
     },
     "execution_count": 23,
     "metadata": {},
     "output_type": "execute_result"
    }
   ],
   "source": [
    "results"
   ]
  },
  {
   "cell_type": "code",
   "execution_count": 24,
   "id": "fe7eba1d",
   "metadata": {},
   "outputs": [
    {
     "name": "stdout",
     "output_type": "stream",
     "text": [
      "\n",
      "Detailed Patterns and Their Usage:\n",
      "Pattern 1 (Usage: 6.0): [0, 2, 0, 0, 0]\n",
      "Pattern 2 (Usage: 4.0): [0, 0, 4, 0, 0]\n",
      "Pattern 5 (Usage: 6.0): [1, 0, 0, 2, 0]\n",
      "Pattern 7 (Usage: 5.0): [0, 0, 0, 4, 5]\n",
      "Pattern 8 (Usage: 1.0): [0, 0, 1, 5, 0]\n"
     ]
    }
   ],
   "source": [
    "print(\"\\nDetailed Patterns and Their Usage:\")\n",
    "for var in master.model.getVars():\n",
    "    if var.X > 0:  # Only display patterns that are used\n",
    "        pattern_index = int(var.VarName.split('[')[1].split(']')[0])  # Extract pattern index from variable name\n",
    "        pattern = master.patternFill[pattern_index]\n",
    "        print(f\"Pattern {pattern_index} (Usage: {var.X}): {pattern}\")\n"
   ]
  },
  {
   "cell_type": "code",
   "execution_count": 25,
   "id": "45dec06d",
   "metadata": {},
   "outputs": [],
   "source": [
    "# Initialize an empty list to store pattern information\n",
    "pattern_data = []"
   ]
  },
  {
   "cell_type": "code",
   "execution_count": 26,
   "id": "515f335a",
   "metadata": {},
   "outputs": [],
   "source": [
    "# Collect detailed patterns and their usage\n",
    "# Collect detailed patterns and their usage\n",
    "for var in master.model.getVars():\n",
    "    #if var.X > 0:  # Only display patterns that are used\n",
    "        pattern_index = int(var.VarName.split('[')[1].split(']')[0])  # Extract pattern index from variable name\n",
    "        pattern = [int(value) for value in master.patternFill[pattern_index]]  # Convert pattern values to integers\n",
    "        pattern_data.append({\n",
    "            'Pattern Index': pattern_index,\n",
    "            'Usage': int(var.X),  # Convert usage to integer\n",
    "            'Pattern': pattern\n",
    "        })\n"
   ]
  },
  {
   "cell_type": "code",
   "execution_count": 27,
   "id": "4b39e16d",
   "metadata": {},
   "outputs": [],
   "source": [
    "output = pd.DataFrame(pattern_data)"
   ]
  },
  {
   "cell_type": "code",
   "execution_count": 28,
   "id": "7ebfa65b",
   "metadata": {},
   "outputs": [
    {
     "data": {
      "text/html": [
       "<div>\n",
       "<style scoped>\n",
       "    .dataframe tbody tr th:only-of-type {\n",
       "        vertical-align: middle;\n",
       "    }\n",
       "\n",
       "    .dataframe tbody tr th {\n",
       "        vertical-align: top;\n",
       "    }\n",
       "\n",
       "    .dataframe thead th {\n",
       "        text-align: right;\n",
       "    }\n",
       "</style>\n",
       "<table border=\"1\" class=\"dataframe\">\n",
       "  <thead>\n",
       "    <tr style=\"text-align: right;\">\n",
       "      <th></th>\n",
       "      <th>Pattern Index</th>\n",
       "      <th>Usage</th>\n",
       "      <th>Pattern</th>\n",
       "    </tr>\n",
       "  </thead>\n",
       "  <tbody>\n",
       "    <tr>\n",
       "      <th>0</th>\n",
       "      <td>0</td>\n",
       "      <td>0</td>\n",
       "      <td>[1, 0, 0, 0, 0]</td>\n",
       "    </tr>\n",
       "    <tr>\n",
       "      <th>1</th>\n",
       "      <td>1</td>\n",
       "      <td>6</td>\n",
       "      <td>[0, 2, 0, 0, 0]</td>\n",
       "    </tr>\n",
       "    <tr>\n",
       "      <th>2</th>\n",
       "      <td>2</td>\n",
       "      <td>4</td>\n",
       "      <td>[0, 0, 4, 0, 0]</td>\n",
       "    </tr>\n",
       "    <tr>\n",
       "      <th>3</th>\n",
       "      <td>3</td>\n",
       "      <td>0</td>\n",
       "      <td>[0, 0, 0, 6, 0]</td>\n",
       "    </tr>\n",
       "    <tr>\n",
       "      <th>4</th>\n",
       "      <td>4</td>\n",
       "      <td>0</td>\n",
       "      <td>[0, 0, 0, 0, 12]</td>\n",
       "    </tr>\n",
       "    <tr>\n",
       "      <th>5</th>\n",
       "      <td>5</td>\n",
       "      <td>6</td>\n",
       "      <td>[1, 0, 0, 2, 0]</td>\n",
       "    </tr>\n",
       "    <tr>\n",
       "      <th>6</th>\n",
       "      <td>6</td>\n",
       "      <td>0</td>\n",
       "      <td>[0, 0, 0, 6, 1]</td>\n",
       "    </tr>\n",
       "    <tr>\n",
       "      <th>7</th>\n",
       "      <td>7</td>\n",
       "      <td>5</td>\n",
       "      <td>[0, 0, 0, 4, 5]</td>\n",
       "    </tr>\n",
       "    <tr>\n",
       "      <th>8</th>\n",
       "      <td>8</td>\n",
       "      <td>1</td>\n",
       "      <td>[0, 0, 1, 5, 0]</td>\n",
       "    </tr>\n",
       "  </tbody>\n",
       "</table>\n",
       "</div>"
      ],
      "text/plain": [
       "   Pattern Index  Usage           Pattern\n",
       "0              0      0   [1, 0, 0, 0, 0]\n",
       "1              1      6   [0, 2, 0, 0, 0]\n",
       "2              2      4   [0, 0, 4, 0, 0]\n",
       "3              3      0   [0, 0, 0, 6, 0]\n",
       "4              4      0  [0, 0, 0, 0, 12]\n",
       "5              5      6   [1, 0, 0, 2, 0]\n",
       "6              6      0   [0, 0, 0, 6, 1]\n",
       "7              7      5   [0, 0, 0, 4, 5]\n",
       "8              8      1   [0, 0, 1, 5, 0]"
      ]
     },
     "execution_count": 28,
     "metadata": {},
     "output_type": "execute_result"
    }
   ],
   "source": [
    "output "
   ]
  },
  {
   "cell_type": "code",
   "execution_count": null,
   "id": "26d0e80e",
   "metadata": {},
   "outputs": [],
   "source": []
  }
 ],
 "metadata": {
  "kernelspec": {
   "display_name": "Python 3 (ipykernel)",
   "language": "python",
   "name": "python3"
  },
  "language_info": {
   "codemirror_mode": {
    "name": "ipython",
    "version": 3
   },
   "file_extension": ".py",
   "mimetype": "text/x-python",
   "name": "python",
   "nbconvert_exporter": "python",
   "pygments_lexer": "ipython3",
   "version": "3.9.12"
  }
 },
 "nbformat": 4,
 "nbformat_minor": 5
}
