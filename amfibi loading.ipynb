{
 "cells": [
  {
   "cell_type": "code",
   "execution_count": 1,
   "id": "826c490d",
   "metadata": {},
   "outputs": [],
   "source": [
    "from gurobipy import Model, GRB, quicksum"
   ]
  },
  {
   "cell_type": "code",
   "execution_count": 2,
   "id": "a810daac",
   "metadata": {},
   "outputs": [],
   "source": [
    "# Parameters\n",
    "m = 6  # Sutun sayısı\n",
    "n = 16  # Satır sayısı\n",
    "w = 10  # Dalga sayısı\n",
    "v = 12  # Dalgadaki araç sayısı"
   ]
  },
  {
   "cell_type": "code",
   "execution_count": 3,
   "id": "9b4323bd",
   "metadata": {},
   "outputs": [],
   "source": [
    "# Sets\n",
    "M = range(1, m + 1)  # Sutun Seti\n",
    "N = range(1, n + 1)  # Satır Seti\n",
    "K = range(1, w + 1)  # Dalga Seti\n",
    "L = range(1, v + 1)  # Araç Seti"
   ]
  },
  {
   "cell_type": "code",
   "execution_count": 4,
   "id": "42f5d8f7",
   "metadata": {},
   "outputs": [
    {
     "name": "stdout",
     "output_type": "stream",
     "text": [
      "Set parameter Username\n",
      "Academic license - for non-commercial use only - expires 2025-07-05\n"
     ]
    }
   ],
   "source": [
    "# Create the Gurobi model\n",
    "model = Model(\"AMPL_Model\")"
   ]
  },
  {
   "cell_type": "code",
   "execution_count": 5,
   "id": "a55b8534",
   "metadata": {},
   "outputs": [],
   "source": [
    "# Variables\n",
    "x = model.addVars(M, N, K, L, vtype=GRB.BINARY, name=\"x\")\n",
    "y = model.addVars(K, vtype=GRB.BINARY, name=\"y\")\n",
    "z = model.addVars(M, N, K, vtype=GRB.BINARY, name=\"z\")\n",
    "r = model.addVars(M, N, vtype=GRB.CONTINUOUS, lb=0, name=\"r\")"
   ]
  },
  {
   "cell_type": "code",
   "execution_count": 6,
   "id": "3766d624",
   "metadata": {},
   "outputs": [],
   "source": [
    "# Objective: Maximize the number of waves\n",
    "model.setObjective(quicksum(y[k] for k in K), GRB.MAXIMIZE)"
   ]
  },
  {
   "cell_type": "code",
   "execution_count": 8,
   "id": "7634c19a",
   "metadata": {},
   "outputs": [
    {
     "name": "stdout",
     "output_type": "stream",
     "text": [
      "Gurobi Optimizer version 11.0.0 build v11.0.0rc2 (win64 - Windows 11+.0 (22631.2))\n",
      "\n",
      "CPU model: AMD Ryzen 7 4800H with Radeon Graphics, instruction set [SSE2|AVX|AVX2]\n",
      "Thread count: 8 physical cores, 16 logical processors, using up to 16 threads\n",
      "\n",
      "Optimize a model with 4464 rows, 12586 columns and 1146960 nonzeros\n",
      "Model fingerprint: 0x756dc9b3\n",
      "Variable types: 96 continuous, 12490 integer (12490 binary)\n",
      "Coefficient statistics:\n",
      "  Matrix range     [7e-02, 1e+01]\n",
      "  Objective range  [1e+00, 1e+00]\n",
      "  Bounds range     [1e+00, 1e+00]\n",
      "  RHS range        [1e+00, 2e+00]\n",
      "Found heuristic solution: objective -0.0000000\n",
      "Presolve removed 3198 rows and 1007 columns\n",
      "Presolve time: 1.45s\n",
      "Presolved: 1266 rows, 11579 columns, 485858 nonzeros\n",
      "Variable types: 0 continuous, 11579 integer (11559 binary)\n",
      "Deterministic concurrent LP optimizer: primal and dual simplex\n",
      "Showing primal log only...\n",
      "\n",
      "Concurrent spin time: 0.00s\n",
      "\n",
      "Solved with dual simplex\n",
      "\n",
      "Use crossover to convert LP symmetric solution to basic solution...\n",
      "\n",
      "Root relaxation: objective 8.000000e+00, 2690 iterations, 0.19 seconds (0.27 work units)\n",
      "\n",
      "    Nodes    |    Current Node    |     Objective Bounds      |     Work\n",
      " Expl Unexpl |  Obj  Depth IntInf | Incumbent    BestBd   Gap | It/Node Time\n",
      "\n",
      "     0     0    8.00000    0  267   -0.00000    8.00000      -     -    3s\n",
      "     0     0    8.00000    0  179   -0.00000    8.00000      -     -    3s\n",
      "H    0     0                       2.0000000    8.00000   300%     -    3s\n",
      "     0     0    8.00000    0  229    2.00000    8.00000   300%     -    5s\n",
      "H    0     0                       3.0000000    8.00000   167%     -    5s\n",
      "H    0     0                       6.0000000    8.00000  33.3%     -    9s\n",
      "     0     0    8.00000    0  230    6.00000    8.00000  33.3%     -    9s\n",
      "H    0     0                       7.0000000    8.00000  14.3%     -   10s\n",
      "     0     0    8.00000    0  254    7.00000    8.00000  14.3%     -   10s\n",
      "     0     0    8.00000    0   82    7.00000    8.00000  14.3%     -   12s\n",
      "     0     0    8.00000    0  144    7.00000    8.00000  14.3%     -   12s\n",
      "     0     0    8.00000    0  137    7.00000    8.00000  14.3%     -   12s\n",
      "H    0     0                       8.0000000    8.00000  0.00%     -   13s\n",
      "     0     0    8.00000    0   56    8.00000    8.00000  0.00%     -   13s\n",
      "\n",
      "Cutting planes:\n",
      "  Cover: 44\n",
      "  Clique: 77\n",
      "  MIR: 36\n",
      "  StrongCG: 9\n",
      "  GUB cover: 47\n",
      "  Zero half: 16\n",
      "\n",
      "Explored 1 nodes (30150 simplex iterations) in 13.92 seconds (19.99 work units)\n",
      "Thread count was 16 (of 16 available processors)\n",
      "\n",
      "Solution count 6: 8 7 6 ... -0\n",
      "\n",
      "Optimal solution found (tolerance 1.00e-04)\n",
      "Best objective 8.000000000000e+00, best bound 8.000000000000e+00, gap 0.0000%\n"
     ]
    }
   ],
   "source": [
    "# Constraints\n",
    "# Constraint 1: Each cell can have at most one vehicle\n",
    "model.addConstrs((quicksum(x[i, j, k, l] for l in L for k in K) <= 1 for i in M for j in N), \"Const1\")\n",
    "\n",
    "# Constraint 2: Each vehicle can occupy at most one position\n",
    "model.addConstrs((quicksum(x[i, j, k, l] for i in M for j in N) <= 1 for k in K for l in L), \"Const12\")\n",
    "\n",
    "# Constraint 3: A wave is loaded if all its vehicles are loaded\n",
    "model.addConstrs((quicksum(x[i, j, k, l] for i in M for j in N) >= y[k] for k in K for l in L), \"Const2\")\n",
    "\n",
    "# Constraint 4: Waves should load sequentially\n",
    "model.addConstrs((y[k] >= y[k + 1] for k in range(1, w)), \"Const22\")\n",
    "\n",
    "# Constraint 5: First vehicle of the first wave must be placed in the first cell\n",
    "model.addConstr((quicksum(x[i, 1, 1, 1] for i in M) == 1), \"Const3\")\n",
    "\n",
    "# Constraint 6: Ensure order of vehicles in subsequent waves\n",
    "model.addConstrs(\n",
    "    (quicksum(x[i, j, k, l] for l in L) +\n",
    "     (1 / (j - 1)) * quicksum(x[i, a, b, l] for l in L for a in range(1, j) for b in range(k + 1, w + 1)) <= 1\n",
    "     for i in M for j in range(2, n + 1) for k in range(1, w)),\n",
    "    \"Const4\"\n",
    ")\n",
    "\n",
    "# Constraint 7: Balancing constraints for vehicle placement\n",
    "model.addConstrs(\n",
    "    (quicksum(x[i, j, a, l] * ((m / 2) + 1 - i) for i in range(1, int(m / 2) + 1) for j in N for a in range(k, w + 1) for l in L) -\n",
    "     quicksum(x[i, j, a, l] * (i - (m / 2)) for i in range(int(m / 2) + 1, m + 1) for j in N for a in range(k, w + 1) for l in L) <= 2\n",
    "     for k in K),\n",
    "    \"Const5\"\n",
    ")\n",
    "\n",
    "model.addConstrs(\n",
    "    (quicksum(x[i, j, a, l] * ((m / 2) + 1 - i) for i in range(1, int(m / 2) + 1) for j in N for a in range(k, w + 1) for l in L) -\n",
    "     quicksum(x[i, j, a, l] * (i - (m / 2)) for i in range(int(m / 2) + 1, m + 1) for j in N for a in range(k, w + 1) for l in L) >= -2\n",
    "     for k in K),\n",
    "    \"Const6\"\n",
    ")\n",
    "\n",
    "# Constraint 8: Define z as a sum over x\n",
    "model.addConstrs((quicksum(x[i, j, k, l] for l in L) == z[i, j, k] for i in M for j in N for k in K), \"Const7\")\n",
    "\n",
    "# Constraint 9: Define r as a weighted sum of z\n",
    "model.addConstrs((quicksum(k * z[i, j, k] for k in K) == r[i, j] for i in M for j in N), \"Const8\")\n",
    "\n",
    "# Solve the model\n",
    "model.optimize()\n"
   ]
  },
  {
   "cell_type": "code",
   "execution_count": 9,
   "id": "b6dc7c38",
   "metadata": {},
   "outputs": [
    {
     "name": "stdout",
     "output_type": "stream",
     "text": [
      "r [*,*] (tr)\n",
      ":      1   2   3   4   5   6   7   8   9  10  11  12  13  14  15  16   :=\n",
      "1      1   1   1   2   2   5   5   5   5   5   6   6   7   7   8   8\n",
      "2      1   3   3   3   3   4   4   4   4   4   4   4   4   5   6   6\n",
      "3      1   2   2   2   2   3   6   6   7   7   7   8   8   8   8   8\n",
      "4      1   1   1   1   2   3   3   3   3   3   7   7   7   7   7   7\n",
      "5      1   1   2   2   2   3   3   6   6   6   6   6   6   8   8   8\n",
      "6      1   2   2   4   4   4   4   5   5   5   5   5   5   7   8   8\n"
     ]
    }
   ],
   "source": [
    "# Display the values of r in a tabular format\n",
    "if model.status == GRB.OPTIMAL:\n",
    "    print(\"r [*,*] (tr)\")\n",
    "    print(\":   \", end=\"\")\n",
    "    # Print the column headers (1 to n)\n",
    "    for j in N:\n",
    "        print(f\"{j:4}\", end=\"\")\n",
    "    print(\"   :=\")\n",
    "    \n",
    "    # Print each row of r (1 to m)\n",
    "    for i in M:\n",
    "        print(f\"{i:<4}\", end=\"\")  # Print the row header\n",
    "        for j in N:\n",
    "            # Print the value of r[i, j], formatted for alignment\n",
    "            print(f\"{r[i, j].X:4.0f}\", end=\"\")\n",
    "        print()  # Newline at the end of the row\n",
    "else:\n",
    "    print(\"No optimal solution found.\")\n"
   ]
  },
  {
   "cell_type": "code",
   "execution_count": null,
   "id": "b7e6cf2d",
   "metadata": {},
   "outputs": [],
   "source": []
  }
 ],
 "metadata": {
  "kernelspec": {
   "display_name": "Python 3 (ipykernel)",
   "language": "python",
   "name": "python3"
  },
  "language_info": {
   "codemirror_mode": {
    "name": "ipython",
    "version": 3
   },
   "file_extension": ".py",
   "mimetype": "text/x-python",
   "name": "python",
   "nbconvert_exporter": "python",
   "pygments_lexer": "ipython3",
   "version": "3.9.12"
  }
 },
 "nbformat": 4,
 "nbformat_minor": 5
}
