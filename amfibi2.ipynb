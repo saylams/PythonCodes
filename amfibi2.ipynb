{
 "cells": [
  {
   "cell_type": "code",
   "execution_count": 1,
   "id": "063692bb",
   "metadata": {},
   "outputs": [],
   "source": [
    "from gurobipy import Model, GRB, quicksum"
   ]
  },
  {
   "cell_type": "code",
   "execution_count": 3,
   "id": "c90ff174",
   "metadata": {},
   "outputs": [],
   "source": [
    "# Sets\n",
    "M = range(1, m + 1)  # Sutun Seti (columns): 1 to m\n",
    "N = range(1, n + 1)  # Satır Seti (rows): 1 to n\n",
    "K = range(1, w + 1)  # Dalga Seti (waves): 1 to w\n",
    "\n",
    "# Parameter for the number of vehicles per wave\n",
    "v = {\n",
    "    1: 8,\n",
    "    2: 9,\n",
    "    3: 10,\n",
    "    4: 5,\n",
    "    5: 10,\n",
    "    6: 10,\n",
    "    7: 6,\n",
    "    8: 9,\n",
    "    9: 9,\n",
    "    10: 36\n",
    "}\n",
    "\n",
    "# Set of vehicles (L) depends on wave (k)\n",
    "L = {k: range(1, v[k] + 1) for k in K}\n",
    "\n",
    "# Composite set A: All combinations of (i, j, k, l)\n",
    "A = [(i, j, k, l) for i in M for j in N for k in K for l in L[k]]"
   ]
  },
  {
   "cell_type": "code",
   "execution_count": 4,
   "id": "7446cfd4",
   "metadata": {},
   "outputs": [
    {
     "name": "stdout",
     "output_type": "stream",
     "text": [
      "Set parameter Username\n",
      "Academic license - for non-commercial use only - expires 2025-07-05\n"
     ]
    }
   ],
   "source": [
    "# Create the Gurobi model\n",
    "model = Model(\"AMPL_Model\")"
   ]
  },
  {
   "cell_type": "code",
   "execution_count": 5,
   "id": "564185e8",
   "metadata": {},
   "outputs": [],
   "source": [
    "# Decision Variables\n",
    "# Binary variable x[i, j, k, l]: Indicates if vehicle l in wave k is placed in cell (i, j)\n",
    "x = model.addVars(A, vtype=GRB.BINARY, name=\"x\")\n",
    "\n",
    "# Binary variable y[k]: Indicates if wave k is activated\n",
    "y = model.addVars(K, vtype=GRB.BINARY, name=\"y\")\n",
    "\n",
    "# Binary variable z[i, j, k]: Auxiliary variable for composite conditions\n",
    "z = model.addVars(M, N, K, vtype=GRB.BINARY, name=\"z\")\n",
    "\n",
    "# Continuous variable r[i, j]: Represents weighted sum of variables (auxiliary)\n",
    "r = model.addVars(M, N, vtype=GRB.CONTINUOUS, lb=0, name=\"r\")\n"
   ]
  },
  {
   "cell_type": "code",
   "execution_count": 6,
   "id": "82dbb2e2",
   "metadata": {},
   "outputs": [],
   "source": [
    "# Objective: Maximize the number of waves activated\n",
    "model.setObjective(quicksum(y[k] for k in K), GRB.MAXIMIZE)"
   ]
  },
  {
   "cell_type": "code",
   "execution_count": 7,
   "id": "63f4ab17",
   "metadata": {},
   "outputs": [
    {
     "name": "stdout",
     "output_type": "stream",
     "text": [
      "Gurobi Optimizer version 11.0.0 build v11.0.0rc2 (win64 - Windows 11+.0 (22631.2))\n",
      "\n",
      "CPU model: AMD Ryzen 7 4800H with Radeon Graphics, instruction set [SSE2|AVX|AVX2]\n",
      "Thread count: 8 physical cores, 16 logical processors, using up to 16 threads\n",
      "\n",
      "Optimize a model with 2216 rows, 11818 columns and 647152 nonzeros\n",
      "Model fingerprint: 0x021fb337\n",
      "Variable types: 96 continuous, 11722 integer (11722 binary)\n",
      "Coefficient statistics:\n",
      "  Matrix range     [7e-02, 1e+01]\n",
      "  Objective range  [1e+00, 1e+00]\n",
      "  Bounds range     [1e+00, 1e+00]\n",
      "  RHS range        [1e+00, 2e+00]\n",
      "Found heuristic solution: objective -0.0000000\n",
      "Presolve removed 900 rows and 1015 columns\n",
      "Presolve time: 1.02s\n",
      "Presolved: 1316 rows, 10803 columns, 554894 nonzeros\n",
      "Variable types: 0 continuous, 10803 integer (10783 binary)\n",
      "Deterministic concurrent LP optimizer: primal and dual simplex\n",
      "Showing primal log only...\n",
      "\n",
      "Concurrent spin time: 0.01s\n",
      "\n",
      "Solved with dual simplex\n",
      "\n",
      "Root relaxation: objective 9.555556e+00, 1125 iterations, 0.41 seconds (0.65 work units)\n",
      "\n",
      "    Nodes    |    Current Node    |     Objective Bounds      |     Work\n",
      " Expl Unexpl |  Obj  Depth IntInf | Incumbent    BestBd   Gap | It/Node Time\n",
      "\n",
      "     0     0    9.55556    0  250   -0.00000    9.55556      -     -    2s\n",
      "H    0     0                       3.0000000    9.55556   219%     -    2s\n",
      "H    0     0                       4.0000000    9.55556   139%     -    3s\n",
      "     0     0    9.00000    0  156    4.00000    9.00000   125%     -    4s\n",
      "H    0     0                       9.0000000    9.00000  0.00%     -    7s\n",
      "     0     0    9.00000    0  156    9.00000    9.00000  0.00%     -    7s\n",
      "\n",
      "Cutting planes:\n",
      "  Gomory: 1\n",
      "  Cover: 33\n",
      "  Clique: 58\n",
      "  MIR: 23\n",
      "  StrongCG: 10\n",
      "  GUB cover: 30\n",
      "\n",
      "Explored 1 nodes (6541 simplex iterations) in 7.55 seconds (10.48 work units)\n",
      "Thread count was 16 (of 16 available processors)\n",
      "\n",
      "Solution count 4: 9 4 3 -0 \n",
      "\n",
      "Optimal solution found (tolerance 1.00e-04)\n",
      "Best objective 9.000000000000e+00, best bound 9.000000000000e+00, gap 0.0000%\n"
     ]
    }
   ],
   "source": [
    "# Constraints\n",
    "\n",
    "# Constraint 1: Each cell can have at most one vehicle\n",
    "model.addConstrs(\n",
    "    (quicksum(x[i, j, k, l] for k in K for l in L[k]) <= 1 for i in M for j in N),\n",
    "    \"Const1\"\n",
    ")\n",
    "\n",
    "# Constraint 12: Each vehicle can occupy at most one position\n",
    "model.addConstrs(\n",
    "    (quicksum(x[i, j, k, l] for i in M for j in N) <= 1 for k in K for l in L[k]),\n",
    "    \"Const12\"\n",
    ")\n",
    "\n",
    "# Constraint 2: A wave is loaded if all its vehicles are loaded\n",
    "model.addConstrs(\n",
    "    (quicksum(x[i, j, k, l] for i in M for j in N) >= y[k] for k in K for l in L[k]),\n",
    "    \"Const2\"\n",
    ")\n",
    "\n",
    "# Constraint 22: Waves should load sequentially\n",
    "model.addConstrs(\n",
    "    (y[k] >= y[k + 1] for k in range(1, w)),\n",
    "    \"Const22\"\n",
    ")\n",
    "\n",
    "# Constraint 3: The first vehicle of the first wave must be placed in the first cell\n",
    "model.addConstr(\n",
    "    (quicksum(x[i, 1, 1, 1] for i in M) == 1),\n",
    "    \"Const3\"\n",
    ")\n",
    "\n",
    "# Constraint 4: Placement rules for subsequent waves\n",
    "model.addConstrs(\n",
    "    (quicksum(x[i, j, k, l] for l in L[k]) +\n",
    "     (1 / (j - 1)) * quicksum(x[i, a, k2, l] for k2 in range(k + 1, w + 1) for l in L[k2] for a in range(1, j)) <= 1\n",
    "     for i in M for j in range(2, n + 1) for k in range(1, w)),\n",
    "    \"Const4\"\n",
    ")\n",
    "\n",
    "# Constraint 5: Balance vehicles around the middle rows (upper bound)\n",
    "model.addConstrs(\n",
    "    (quicksum(x[i, j, a, l] * ((m / 2) + 1 - i) for i in range(1, int(m / 2) + 1) for j in N for a in range(k, w + 1) for l in L[a]) -\n",
    "     quicksum(x[i, j, a, l] * (i - (m / 2)) for i in range(int(m / 2) + 1, m + 1) for j in N for a in range(k, w + 1) for l in L[a]) <= 2\n",
    "     for k in K),\n",
    "    \"Const5\"\n",
    ")\n",
    "\n",
    "# Constraint 6: Balance vehicles around the middle rows (lower bound)\n",
    "model.addConstrs(\n",
    "    (quicksum(x[i, j, a, l] * ((m / 2) + 1 - i) for i in range(1, int(m / 2) + 1) for j in N for a in range(k, w + 1) for l in L[a]) -\n",
    "     quicksum(x[i, j, a, l] * (i - (m / 2)) for i in range(int(m / 2) + 1, m + 1) for j in N for a in range(k, w + 1) for l in L[a]) >= -2\n",
    "     for k in K),\n",
    "    \"Const6\"\n",
    ")\n",
    "\n",
    "# Constraint 7: Define z as a sum over x\n",
    "model.addConstrs(\n",
    "    (quicksum(x[i, j, k, l] for l in L[k]) == z[i, j, k] for i in M for j in N for k in K),\n",
    "    \"Const7\"\n",
    ")\n",
    "\n",
    "# Constraint 8: Define r as a weighted sum of z\n",
    "model.addConstrs(\n",
    "    (quicksum(k * z[i, j, k] for k in K) == r[i, j] for i in M for j in N),\n",
    "    \"Const8\"\n",
    ")\n",
    "\n",
    "# Solve the model\n",
    "model.optimize()"
   ]
  },
  {
   "cell_type": "code",
   "execution_count": 10,
   "id": "7c0fc8cf",
   "metadata": {},
   "outputs": [
    {
     "name": "stdout",
     "output_type": "stream",
     "text": [
      "r [*,*] (tr)\n",
      ":       1   2   3   4   5   6   7   8   9  10  11  12  13  14  15  16   :=\n",
      "1      2   2   0   2   2   3   3   5   5   0   8   8   9   0   9   9\n",
      "2      1   0   1   1   0   1   0   4   0   0   5   0   5   5   7   7\n",
      "3      3   4   4   6   6   6   0   6   6   6   6   8   8   8   9   9\n",
      "4      1   2   2   3   0   3   3   3   4   5   0   5   6   7   8   8\n",
      "5      1   3   3   3   6   0   0   0   6   0   7   7   7   8   0   0\n",
      "6      1   1   2   2   2   4   5   5   5   8   0   9   9   9   0   9\n"
     ]
    }
   ],
   "source": [
    "# Display the values of r in a tabular format\n",
    "if model.status == GRB.OPTIMAL:\n",
    "    print(\"r [*,*] (tr)\")\n",
    "    print(\":    \", end=\"\")\n",
    "    \n",
    "    # Print the column headers (1 to n)\n",
    "    for j in N:\n",
    "        print(f\"{j:>4}\", end=\"\")\n",
    "    print(\"   :=\")\n",
    "    \n",
    "    # Print each row of r (1 to m)\n",
    "    for i in M:\n",
    "        print(f\"{i:<4}\", end=\"\")  # Print the row header\n",
    "        for j in N:\n",
    "            # Print the value of r[i, j], formatted for alignment\n",
    "            print(f\"{r[i, j].X:>4.0f}\", end=\"\")\n",
    "        print()  # Newline at the end of the row\n",
    "else:\n",
    "    print(\"No optimal solution found. Model status:\", model.status)\n"
   ]
  },
  {
   "cell_type": "code",
   "execution_count": null,
   "id": "4bb307e7",
   "metadata": {},
   "outputs": [],
   "source": []
  }
 ],
 "metadata": {
  "kernelspec": {
   "display_name": "Python 3 (ipykernel)",
   "language": "python",
   "name": "python3"
  },
  "language_info": {
   "codemirror_mode": {
    "name": "ipython",
    "version": 3
   },
   "file_extension": ".py",
   "mimetype": "text/x-python",
   "name": "python",
   "nbconvert_exporter": "python",
   "pygments_lexer": "ipython3",
   "version": "3.9.12"
  }
 },
 "nbformat": 4,
 "nbformat_minor": 5
}
